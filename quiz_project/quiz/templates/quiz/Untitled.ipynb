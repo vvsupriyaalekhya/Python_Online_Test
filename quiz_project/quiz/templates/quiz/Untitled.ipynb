{
 "cells": [
  {
   "cell_type": "code",
   "execution_count": null,
   "id": "f7323216-d9c8-4dc2-b616-fd89e275bcfc",
   "metadata": {},
   "outputs": [],
   "source": [
    "import cv2\n",
    "\n",
    "def draw_boundary(img, classifier, scaleFactor, minNeighbors, color, text):\n",
    "    gray_img = cv2.cvtColor(img, cv2.COLOR_BGR2GRAY)\n",
    "    features = classifier.detectMultiScale(gray_img, scaleFactor, minNeighbors)\n",
    "    coords = []\n",
    "    for (x, y, w, h) in features:\n",
    "        cv2.rectangle(img, (x, y), (x + w, y + h), color, 2)\n",
    "        cv2.putText(img, text, (x, y - 4), cv2.FONT_HERSHEY_SIMPLEX, 0.8, color, 1, cv2.LINE_AA)\n",
    "        coords = [x, y, w, h]\n",
    "    return coords, img\n",
    "\n",
    "def detect(img, faceCascade):\n",
    "    color = {\"blue\": (255, 0, 0), \"red\": (0, 0, 255), \"green\": (0, 255, 0)}\n",
    "    coords, img = draw_boundary(img, faceCascade, 1.1, 10, color['blue'], \"Face\")\n",
    "    return img\n",
    "\n",
    "# Load Haar Cascade for face detection\n",
    "faceCascade = cv2.CascadeClassifier('haarcascade_frontalface_default.xml')\n",
    "\n",
    "# Start video capture and set resolution\n",
    "video_capture = cv2.VideoCapture(0)\n",
    "video_capture.set(cv2.CAP_PROP_FRAME_WIDTH, 1280)  # Set width\n",
    "video_capture.set(cv2.CAP_PROP_FRAME_HEIGHT, 720)  # Set height\n",
    "\n",
    "# Create a named window with resizable properties\n",
    "cv2.namedWindow(\"Face Detection\", cv2.WINDOW_NORMAL)\n",
    "cv2.resizeWindow(\"Face Detection\", 1280, 720)  # Resize the display window\n",
    "\n",
    "while True:\n",
    "    _, img = video_capture.read()\n",
    "    img = detect(img, faceCascade)\n",
    "    cv2.imshow(\"Face Detection\", img)\n",
    "\n",
    "    if cv2.waitKey(1) & 0xFF == ord('q'):\n",
    "        break\n",
    "\n",
    "video_capture.release()\n",
    "cv2.destroyAllWindows()\n"
   ]
  },
  {
   "cell_type": "code",
   "execution_count": null,
   "id": "aa3bf50f-fca8-4642-bada-332be7cf77c1",
   "metadata": {},
   "outputs": [],
   "source": []
  }
 ],
 "metadata": {
  "kernelspec": {
   "display_name": "Python 3 (ipykernel)",
   "language": "python",
   "name": "python3"
  },
  "language_info": {
   "codemirror_mode": {
    "name": "ipython",
    "version": 3
   },
   "file_extension": ".py",
   "mimetype": "text/x-python",
   "name": "python",
   "nbconvert_exporter": "python",
   "pygments_lexer": "ipython3",
   "version": "3.12.4"
  }
 },
 "nbformat": 4,
 "nbformat_minor": 5
}
